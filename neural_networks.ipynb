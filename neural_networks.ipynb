{
 "cells": [
  {
   "cell_type": "code",
   "execution_count": null,
   "outputs": [],
   "source": [
    "import os\n",
    "from pathlib import Path\n",
    "import cv2\n",
    "import torch\n",
    "from torch import nn\n",
    "from torch import optim\n",
    "from sklearn.datasets import make_moons, make_circles, make_blobs, load_iris\n",
    "import numpy as np\n",
    "import matplotlib.pyplot as plt"
   ],
   "metadata": {
    "collapsed": false,
    "is_executing": true
   }
  },
  {
   "cell_type": "code",
   "execution_count": null,
   "outputs": [],
   "source": [
    "device = 'cpu'\n",
    "torch.set_default_device(device)"
   ],
   "metadata": {
    "collapsed": false,
    "is_executing": true
   }
  },
  {
   "cell_type": "code",
   "execution_count": null,
   "outputs": [],
   "source": [
    "def plot_decision_boundary(model: torch.nn.Module,\n",
    "                           X: torch.Tensor,\n",
    "                           y: torch.Tensor,\n",
    "                           return_device: str = \"cuda\"):\n",
    "    \"\"\"Plots decision boundaries of model predicting on X in comparison to y.\n",
    "\n",
    "    Source - https://madewithml.com/courses/foundations/neural-networks/ (with modifications)\n",
    "    \"\"\"\n",
    "    # Put everything to CPU (works better with NumPy + Matplotlib)\n",
    "    model.to(\"cpu\")\n",
    "    X, y = X.to(\"cpu\"), y.to(\"cpu\")\n",
    "\n",
    "    # Setup prediction boundaries and grid\n",
    "    x_min, x_max = X[:, 0].min() - 0.1, X[:, 0].max() + 0.1\n",
    "    y_min, y_max = X[:, 1].min() - 0.1, X[:, 1].max() + 0.1\n",
    "    xx, yy = np.meshgrid(np.linspace(x_min, x_max, 101), np.linspace(y_min, y_max, 101))\n",
    "\n",
    "    # Make features\n",
    "    X_to_pred_on = torch.from_numpy(np.column_stack((xx.ravel(), yy.ravel()))).float()\n",
    "\n",
    "    # Make predictions\n",
    "    model.eval()\n",
    "    with torch.inference_mode():\n",
    "        y_logits = model(X_to_pred_on)\n",
    "\n",
    "    # Test for multi-class or binary and adjust logits to prediction labels\n",
    "    if len(torch.unique(y)) > 2:\n",
    "        y_pred = torch.softmax(y_logits, dim=1).argmax(dim=1)  # mutli-class\n",
    "    else:\n",
    "        y_pred = torch.round(torch.sigmoid(y_logits))  # binary\n",
    "\n",
    "    # Reshape preds and plot\n",
    "    y_pred = y_pred.reshape(xx.shape).detach().numpy()\n",
    "    plt.contourf(xx, yy, y_pred, cmap=plt.cm.RdYlBu, alpha=0.7)\n",
    "    plt.scatter(X[:, 0], X[:, 1], c=y, s=40, cmap=plt.cm.RdYlBu)\n",
    "    plt.xlim(xx.min(), xx.max())\n",
    "    plt.ylim(yy.min(), yy.max())\n",
    "\n",
    "    X.to(device=device)\n",
    "    y.to(device=device)"
   ],
   "metadata": {
    "collapsed": false,
    "is_executing": true
   }
  },
  {
   "cell_type": "code",
   "execution_count": null,
   "outputs": [],
   "source": [
    "def show_plot(X, y, save_folder: Path = None):\n",
    "    plt.figure(figsize=(10, 10))\n",
    "    if save_folder:\n",
    "        plt.savefig(save_folder / \"plot.png\")\n",
    "        plt.close()\n",
    "    else:\n",
    "        plt.show()"
   ],
   "metadata": {
    "collapsed": false,
    "is_executing": true
   }
  },
  {
   "cell_type": "code",
   "execution_count": null,
   "outputs": [],
   "source": [
    "def train_model(model: nn.Module,\n",
    "                X: torch.Tensor,\n",
    "                y: torch.Tensor,\n",
    "                epochs: int = 100,\n",
    "                lr: float = 0.01,\n",
    "                optimizer_class: optim = optim.Adam,\n",
    "                loss_class: nn = nn.BCEWithLogitsLoss,\n",
    "                save_folder: Path = None,\n",
    "                convert_to_video: bool = True) -> None:\n",
    "    \"\"\"\n",
    "\n",
    "    :param model: your model\n",
    "    :param X: your train data\n",
    "    :param y: your labels (desired output)\n",
    "    :param epochs:\n",
    "    :param lr: learning rate (step)\n",
    "    :param optimizer_class: optimizer\n",
    "    :param loss_class: lostt\n",
    "    :param save_folder: folder to save your images **BE CAREFULL**\n",
    "    :param convert_to_video: convert sequence to video\n",
    "    :return: None\n",
    "    \"\"\"\n",
    "    loss_fn = loss_class()\n",
    "    optimizer = optimizer_class(model.parameters(), lr=lr)\n",
    "\n",
    "    for epoch in range(epochs):\n",
    "        model_prediction = model(X)\n",
    "        loss = loss_fn(model_prediction, y)\n",
    "        loss.backward()\n",
    "        optimizer.step()\n",
    "        optimizer.zero_grad()\n",
    "\n",
    "        if save_folder:\n",
    "            plt.figure(figsize=(10, 10))\n",
    "            plot_decision_boundary(model, X, y)\n",
    "            plt.savefig(save_folder / f\"{epoch}.jpg\")\n",
    "            plt.close()\n",
    "\n",
    "        if epoch % 10 == 0:\n",
    "            print(f\"Epoch [{epoch}/{epochs}] | Loss: {loss.item():.4f}\")\n",
    "\n",
    "    if convert_to_video and save_folder:\n",
    "        images = sorted([img for img in os.listdir(save_folder) if img.endswith(\".jpg\")],\n",
    "                        key=lambda x: int(x.split(\".\")[0]))\n",
    "\n",
    "        frame = cv2.imread(os.path.join(save_folder, images[0]))\n",
    "        height, width, _ = frame.shape\n",
    "\n",
    "        video_name = str(save_folder / 'model_timelapse.mp4')\n",
    "        fps = 60\n",
    "        video_codec = cv2.VideoWriter_fourcc('m', 'p', '4', 'v')\n",
    "        video_writer = cv2.VideoWriter(video_name, video_codec, fps, (width, height))\n",
    "        for image in images:\n",
    "            frame = cv2.imread(os.path.join(save_folder, image))\n",
    "            video_writer.write(frame)\n",
    "            os.remove(save_folder / image)\n",
    "        video_writer.release()\n",
    "        print(\"Video saved!\")"
   ],
   "metadata": {
    "collapsed": false,
    "is_executing": true
   }
  },
  {
   "cell_type": "code",
   "execution_count": null,
   "outputs": [],
   "source": [
    "X_moons, y_moons = make_moons(n_samples=1000, noise=0.03, random_state=42)\n",
    "X_circles, y_circles = make_circles(n_samples=1000, noise=0.03, random_state=42)\n",
    "X_blobs, y_blobs = make_blobs(n_samples=1000, cluster_std=0.5, n_features=2, centers=8, random_state=42)"
   ],
   "metadata": {
    "collapsed": false,
    "is_executing": true
   }
  },
  {
   "cell_type": "code",
   "execution_count": null,
   "outputs": [],
   "source": [
    "n_samples = 1000\n",
    "dimensions = 2\n",
    "classes = 3\n",
    "X_spirals = np.zeros((n_samples * classes, dimensions))  # data matrix (each row = single example)\n",
    "y_spirals = np.zeros(n_samples * classes, dtype='uint8')  # class labels\n",
    "for j in range(classes):\n",
    "    ix = range(n_samples * j, n_samples * (j + 1))\n",
    "    radius = np.linspace(0.0, 1, n_samples)  # radius\n",
    "    theta = np.linspace(j * 4, (j + 1) * 4, n_samples) + np.random.randn(n_samples) * 0.2\n",
    "    X_spirals[ix] = np.c_[radius * np.sin(theta), radius * np.cos(theta)]\n",
    "    y_spirals[ix] = j"
   ],
   "metadata": {
    "collapsed": false,
    "is_executing": true
   }
  },
  {
   "cell_type": "code",
   "execution_count": null,
   "outputs": [],
   "source": [
    "X_moons, X_circles, X_blobs, X_spirals, y_moons, y_circles, y_blobs, y_spirals = map(\n",
    "    lambda x: torch.tensor(x, dtype=torch.float32, device=device),\n",
    "    (X_moons, X_circles, X_blobs, X_spirals, y_moons, y_circles, y_blobs, y_spirals)\n",
    ")"
   ],
   "metadata": {
    "collapsed": false,
    "is_executing": true
   }
  },
  {
   "cell_type": "code",
   "execution_count": null,
   "outputs": [],
   "source": [
    "y_moons, y_circles = map(\n",
    "    lambda x: x.unsqueeze(1),\n",
    "    (y_moons, y_circles)\n",
    ")"
   ],
   "metadata": {
    "collapsed": false,
    "is_executing": true
   }
  },
  {
   "cell_type": "code",
   "execution_count": null,
   "outputs": [],
   "source": [
    "y_blobs, y_spirals = y_blobs.long(), y_spirals.long()"
   ],
   "metadata": {
    "collapsed": false,
    "is_executing": true
   }
  },
  {
   "cell_type": "markdown",
   "source": [
    "##### Binary (one or another)"
   ],
   "metadata": {
    "collapsed": false
   }
  },
  {
   "cell_type": "code",
   "execution_count": null,
   "outputs": [],
   "source": [
    "moons_model = nn.Sequential(\n",
    "    nn.Linear(2, 8),\n",
    "    nn.ReLU(),\n",
    "    nn.Linear(8, 8),\n",
    "    nn.ReLU(),\n",
    "    nn.Linear(8, 1),\n",
    ")"
   ],
   "metadata": {
    "collapsed": false,
    "is_executing": true
   }
  },
  {
   "cell_type": "code",
   "execution_count": null,
   "outputs": [],
   "source": [
    "circles_model = nn.Sequential(\n",
    "    nn.Linear(2, 8),\n",
    "    nn.ReLU(),\n",
    "    nn.Linear(8, 8),\n",
    "    nn.ReLU(),\n",
    "    nn.Linear(8, 1),\n",
    ")"
   ],
   "metadata": {
    "collapsed": false,
    "is_executing": true
   }
  },
  {
   "cell_type": "markdown",
   "source": [
    "##### Multi-class"
   ],
   "metadata": {
    "collapsed": false
   }
  },
  {
   "cell_type": "code",
   "execution_count": null,
   "outputs": [],
   "source": [
    "blobs_model = nn.Sequential(\n",
    "    nn.Linear(2, 8),\n",
    "    nn.ReLU(),\n",
    "    nn.Linear(8, 8),\n",
    "    nn.ReLU(),\n",
    "    nn.Linear(8, 8),\n",
    ")"
   ],
   "metadata": {
    "collapsed": false,
    "is_executing": true
   }
  },
  {
   "cell_type": "code",
   "execution_count": null,
   "outputs": [],
   "source": [
    "spirals_model = nn.Sequential(\n",
    "    nn.Linear(2, 8),\n",
    "    nn.ReLU(),\n",
    "    nn.Linear(8, 8),\n",
    "    nn.ReLU(),\n",
    "    nn.Linear(8, 3),\n",
    ")"
   ],
   "metadata": {
    "collapsed": false,
    "is_executing": true
   }
  },
  {
   "cell_type": "code",
   "execution_count": null,
   "outputs": [],
   "source": [
    "save_moons = Path(\"moons\")\n",
    "save_circles = Path(\"circles\")\n",
    "save_blobs = Path(\"blobs\")\n",
    "save_spirals = Path(\"spirals\")"
   ],
   "metadata": {
    "collapsed": false,
    "is_executing": true
   }
  },
  {
   "cell_type": "code",
   "execution_count": null,
   "outputs": [],
   "source": [
    "save_moons.mkdir(exist_ok=True)\n",
    "save_circles.mkdir(exist_ok=True)\n",
    "save_blobs.mkdir(exist_ok=True)\n",
    "save_spirals.mkdir(exist_ok=True)"
   ],
   "metadata": {
    "collapsed": false,
    "is_executing": true
   }
  },
  {
   "cell_type": "code",
   "execution_count": null,
   "outputs": [],
   "source": [
    "# load models' weights\n",
    "# try:\n",
    "#     moons_model.load_state_dict(torch.load(\"weights/moons_model.pth\"))\n",
    "#     circles_model.load_state_dict(torch.load(\"weights/circles_model.pth\"))\n",
    "#     blobs_model.load_state_dict(torch.load(\"weights/blobs_model.pth\"))\n",
    "# except:\n",
    "#     print(\"Unable to load models!\")"
   ],
   "metadata": {
    "collapsed": false,
    "is_executing": true
   }
  },
  {
   "cell_type": "code",
   "execution_count": null,
   "outputs": [],
   "source": [
    "epochs = 100\n",
    "lr = 0.01  # learning rate"
   ],
   "metadata": {
    "collapsed": false,
    "is_executing": true
   }
  },
  {
   "cell_type": "code",
   "execution_count": null,
   "outputs": [],
   "source": [
    "print(\"---------------------Training moon model---------------------\")\n",
    "train_model(model=moons_model,\n",
    "            X=X_moons,\n",
    "            y=y_moons,\n",
    "            epochs=epochs,\n",
    "            lr=lr,\n",
    "            loss_class=nn.BCEWithLogitsLoss,\n",
    "            save_folder=save_moons,\n",
    "            convert_to_video=True)"
   ],
   "metadata": {
    "collapsed": false,
    "is_executing": true
   }
  },
  {
   "cell_type": "code",
   "execution_count": null,
   "outputs": [],
   "source": [
    "print(\"---------------------Training circle model---------------------\")\n",
    "train_model(model=circles_model,\n",
    "            X=X_circles,\n",
    "            y=y_circles,\n",
    "            epochs=epochs,\n",
    "            lr=lr,\n",
    "            loss_class=nn.BCEWithLogitsLoss,\n",
    "            save_folder=save_circles,\n",
    "            convert_to_video=True)"
   ],
   "metadata": {
    "collapsed": false,
    "is_executing": true
   }
  },
  {
   "cell_type": "code",
   "execution_count": null,
   "outputs": [],
   "source": [
    "print(\"---------------------Training blob model---------------------\")\n",
    "train_model(model=blobs_model,\n",
    "            X=X_blobs,\n",
    "            y=y_blobs,\n",
    "            epochs=epochs,\n",
    "            lr=lr,\n",
    "            loss_class=nn.CrossEntropyLoss,\n",
    "            save_folder=save_blobs,\n",
    "            convert_to_video=True)"
   ],
   "metadata": {
    "collapsed": false,
    "is_executing": true
   }
  },
  {
   "cell_type": "code",
   "execution_count": null,
   "outputs": [],
   "source": [
    "print(\"---------------------Training spiral model---------------------\")\n",
    "train_model(model=spirals_model,\n",
    "            X=X_spirals,\n",
    "            y=y_spirals,\n",
    "            epochs=epochs,\n",
    "            lr=lr,\n",
    "            loss_class=nn.CrossEntropyLoss,\n",
    "            save_folder=save_spirals,\n",
    "            convert_to_video=True)"
   ],
   "metadata": {
    "collapsed": false,
    "is_executing": true
   }
  },
  {
   "cell_type": "code",
   "execution_count": null,
   "outputs": [],
   "source": [
    "# save weights to reuse models\n",
    "\n",
    "# torch.save(moons_model.state_dict(), \"moons_model.pth\")\n",
    "# torch.save(circles_model.state_dict(), \"circles_model.pth\")\n",
    "# torch.save(blobs_model.state_dict(), \"blobs_model.pth\")"
   ],
   "metadata": {
    "collapsed": false,
    "is_executing": true
   }
  },
  {
   "cell_type": "code",
   "execution_count": null,
   "outputs": [],
   "source": [],
   "metadata": {
    "collapsed": false
   }
  }
 ],
 "metadata": {
  "kernelspec": {
   "display_name": "Python 3",
   "language": "python",
   "name": "python3"
  },
  "language_info": {
   "codemirror_mode": {
    "name": "ipython",
    "version": 2
   },
   "file_extension": ".py",
   "mimetype": "text/x-python",
   "name": "python",
   "nbconvert_exporter": "python",
   "pygments_lexer": "ipython2",
   "version": "2.7.6"
  }
 },
 "nbformat": 4,
 "nbformat_minor": 0
}
